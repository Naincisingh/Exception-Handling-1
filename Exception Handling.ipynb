{
 "cells": [
  {
   "cell_type": "code",
   "execution_count": 1,
   "id": "35bd1db5-ad53-4ea5-8b69-71ec01662977",
   "metadata": {},
   "outputs": [
    {
     "data": {
      "text/plain": [
       "'QTS. 1\\nAn exception is an event that occcurs during the execuetion of the program\\nthat disrupt the normal flow of execuetion.\\n\\n* Difference between exception and syntax error-:\\n\\n1.Errors are the problem in the programs that will stop the execuetion\\nof the program.\\n\\n2.while the exception is the change in the some internal event that\\nthat will disrupt the normal flow of code.\\n\\n3.when the syntax of the language of the code is not properly followed\\nthan this error is thrown.'"
      ]
     },
     "execution_count": 1,
     "metadata": {},
     "output_type": "execute_result"
    }
   ],
   "source": [
    "\"\"\"QTS. 1\n",
    "An exception is an event that occcurs during the execuetion of the program\n",
    "that disrupt the normal flow of execuetion.\n",
    "\n",
    "* Difference between exception and syntax error-:\n",
    "\n",
    "1.Errors are the problem in the programs that will stop the execuetion\n",
    "of the program.\n",
    "\n",
    "2.while the exception is the change in the some internal event that\n",
    "that will disrupt the normal flow of code.\n",
    "\n",
    "3.when the syntax of the language of the code is not properly followed\n",
    "than this error is thrown.\"\"\""
   ]
  },
  {
   "cell_type": "code",
   "execution_count": 18,
   "id": "71fb8369-0afb-4e45-91b1-fd22a56ec111",
   "metadata": {},
   "outputs": [
    {
     "name": "stdout",
     "output_type": "stream",
     "text": [
      "this is my first exception block program can only concatenate str (not \"int\") to str\n",
      "sum = 134\n"
     ]
    }
   ],
   "source": [
    "\"\"\"QTS. 2\n",
    "If the exception is not handled by the except clause\n",
    "than the exception is reraised after the final clause.\"\"\"\n",
    "def add(a):\n",
    "    try:\n",
    "        return \"string\"+a\n",
    "    except TypeError as e:\n",
    "        print(\"this is my first exception block program\",e)\n",
    "\n",
    "    finally:\n",
    "        print(\"sum\",\"=\",45+89)\n",
    "\n",
    "pw=add(46)"
   ]
  },
  {
   "cell_type": "code",
   "execution_count": 19,
   "id": "57d4b519-1ebc-40d6-891a-7644ed848218",
   "metadata": {},
   "outputs": [
    {
     "name": "stdout",
     "output_type": "stream",
     "text": [
      "this is my second exception program [Errno 2] No such file or directory: 'test4'\n"
     ]
    }
   ],
   "source": [
    "\"\"\"QTS. 3\n",
    "Try and Except statement is used to catch and handle exceptions in python\"\"\"\n",
    "try:\n",
    "    with open(\"test4\",'r') as f:\n",
    "        print(f.read())\n",
    "except Exception as e:\n",
    "    print(\"this is my second exception program\",e)"
   ]
  },
  {
   "cell_type": "code",
   "execution_count": 23,
   "id": "967a0b63-2033-4106-96aa-91d970541b3b",
   "metadata": {},
   "outputs": [
    {
     "name": "stdout",
     "output_type": "stream",
     "text": [
      "ChatGPT is an artificial intelligence chatbot, developed - and launched on November 30, 2022 - by OpenAI. It is notable for enabling users to refine and steer a conversation towards a desired length, format, style, level of detail, and language used. Wikipedia\n",
      "sum 141\n"
     ]
    }
   ],
   "source": [
    "\"\"\"QTS.4\"\"\"\n",
    "try:\n",
    "    with open(\"test2.txt\",'r') as f: ##\"test2.txt\" already present in my system.\n",
    "        print(f.read())\n",
    "except FilenotfoundError as e:\n",
    "    print(\"third exception program\",e)\n",
    "else:\n",
    "    print(\"sum\",45+96) ##else block is execueted only if the try block executes successfully."
   ]
  },
  {
   "cell_type": "code",
   "execution_count": 35,
   "id": "9dbf8c82-d6fa-4fb5-86e9-fdc5c5f936c1",
   "metadata": {},
   "outputs": [
    {
     "name": "stdout",
     "output_type": "stream",
     "text": [
      "this is a exception block not readable\n",
      "product 86016\n"
     ]
    }
   ],
   "source": [
    "try:\n",
    "    with open(\"test5\",'w') as f:    # \"test5\" file is not present in my system\n",
    "        print(f.read())\n",
    "except Exception as e:\n",
    "        print(\"this is a exception block\",e)\n",
    "finally:\n",
    "        print(\"product\",96*896)     #finally block is execueted in every condition \n",
    "                                    #no matter try block executes successfully or not.\n",
    "    "
   ]
  },
  {
   "cell_type": "code",
   "execution_count": 6,
   "id": "c06eeead-e9eb-4e15-bd3f-793bb43b2606",
   "metadata": {},
   "outputs": [
    {
     "name": "stdin",
     "output_type": "stream",
     "text": [
      "enter subj marks 50\n",
      "enter second subj marks 50\n",
      "enter third subj marks 50\n"
     ]
    },
    {
     "name": "stdout",
     "output_type": "stream",
     "text": [
      "C\n"
     ]
    }
   ],
   "source": [
    "class pwskills(Exception):\n",
    "        def __init__(self,msg):\n",
    "            self.msg=msg\n",
    "        \n",
    "def percentage(a,b,c):\n",
    "    p=((a+b+c)/300)*100\n",
    "    if p>=90:\n",
    "        raise pwskills(\"A\")\n",
    "    elif p>=80 or p>=70:\n",
    "        raise pwskills(\"B\")\n",
    "    else:\n",
    "        raise pwskills(\"C\")\n",
    "        print(p)\n",
    "try:\n",
    "    a=int(input(\"enter subj marks\"))\n",
    "    \n",
    "    b=int(input(\"enter second subj marks\"))\n",
    "    \n",
    "    c=int(input(\"enter third subj marks\"))\n",
    "    \n",
    "    percentage(a,b,c)\n",
    "    \n",
    "except pwskills as e:\n",
    "    print(e)"
   ]
  },
  {
   "cell_type": "code",
   "execution_count": 5,
   "id": "914570a9-4f3e-45de-98f6-75ee316c754c",
   "metadata": {},
   "outputs": [
    {
     "name": "stdin",
     "output_type": "stream",
     "text": [
      "enter any integer value 50\n",
      "enter any integer value 50\n",
      "enterv any integer number 50\n"
     ]
    },
    {
     "name": "stdout",
     "output_type": "stream",
     "text": [
      "C\n"
     ]
    },
    {
     "data": {
      "text/plain": [
       "'\\n    custom exceptions are the exceptions which are created based on user need and\\n    throw customized message whenever the exception raises,based on user customized message.\\n  \\n    It is used whwn exception case is different than the built-in cases in the operating system\\n    than the need of customized exceptions is required.'"
      ]
     },
     "execution_count": 5,
     "metadata": {},
     "output_type": "execute_result"
    }
   ],
   "source": [
    "\"\"\"QTS. 5\"\"\"\n",
    "class pwskills(Exception):\n",
    "    def __init__(self,msg):\n",
    "        self.msg=msg\n",
    "        \n",
    "def perc(a,b,c):\n",
    "        p=((a+b+c)/300)*100\n",
    "        if p>90:\n",
    "            raise pwskills(\"A\")\n",
    "        elif p>=80 or p>=70:\n",
    "            raise pwskills(\"B\")\n",
    "        else:\n",
    "            raise pwskills(\"C\")\n",
    "            print(p)\n",
    "            \n",
    "try:\n",
    "    a=int(input(\"enter any integer value\"))\n",
    "    b=int(input(\"enter any integer value\"))\n",
    "    c=int(input(\"enterv any integer number\"))\n",
    "    perc(a,b,c)\n",
    "    \n",
    "except pwskills as e:\n",
    "    print(e)\n",
    "\n",
    "\"\"\"\n",
    "    custom exceptions are the exceptions which are created based on user need and\n",
    "    throw customized message whenever the exception raises,based on user customized message.\n",
    "  \n",
    "    It is used whwn exception case is different than the built-in cases in the operating system\n",
    "    than the need of customized exceptions is required.\"\"\"\n",
    "    \n",
    "    "
   ]
  },
  {
   "cell_type": "code",
   "execution_count": 11,
   "id": "602714ef-dccc-4b06-8814-410b5bbd6020",
   "metadata": {},
   "outputs": [],
   "source": [
    "\"\"\"QTS. 6\"\"\"\n",
    "class validage(Exception):\n",
    "    def __init__(self,msg):\n",
    "        \n",
    "        self.msg=msg\n",
    "    \n",
    "def valid(age):      \n",
    "    if age>90:\n",
    "        raise validage(\"old\")\n",
    "            \n",
    "    elif age>=80 or age<=65:\n",
    "        raise validage(\"middle age\")\n",
    "            \n",
    "    else:\n",
    "        raise validage(\"younger\")"
   ]
  },
  {
   "cell_type": "code",
   "execution_count": 12,
   "id": "f01ace53-608b-49f1-bee7-f7e782674fba",
   "metadata": {},
   "outputs": [
    {
     "name": "stdout",
     "output_type": "stream",
     "text": [
      "younger\n"
     ]
    }
   ],
   "source": [
    "try:\n",
    "    valid(78)\n",
    "    \n",
    "except validage as e:\n",
    "    print(e)"
   ]
  },
  {
   "cell_type": "code",
   "execution_count": null,
   "id": "e8b7ee35-e2c7-4c85-9182-9226283d621c",
   "metadata": {},
   "outputs": [],
   "source": []
  }
 ],
 "metadata": {
  "kernelspec": {
   "display_name": "Python 3 (ipykernel)",
   "language": "python",
   "name": "python3"
  },
  "language_info": {
   "codemirror_mode": {
    "name": "ipython",
    "version": 3
   },
   "file_extension": ".py",
   "mimetype": "text/x-python",
   "name": "python",
   "nbconvert_exporter": "python",
   "pygments_lexer": "ipython3",
   "version": "3.10.8"
  }
 },
 "nbformat": 4,
 "nbformat_minor": 5
}
